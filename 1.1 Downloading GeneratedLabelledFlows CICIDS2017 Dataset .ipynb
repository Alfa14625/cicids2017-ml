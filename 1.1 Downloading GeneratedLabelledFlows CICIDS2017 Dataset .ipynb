from flask import Flask, render_template, request, jsonify, send_file
import joblib
import numpy as np
import pandas as pd
from datetime import datetime
import json
import io
import base64
import matplotlib
matplotlib.use('Agg')
import matplotlib.pyplot as plt
import seaborn as sns
